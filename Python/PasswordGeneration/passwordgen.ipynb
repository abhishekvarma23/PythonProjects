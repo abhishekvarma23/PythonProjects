{
 "cells": [
  {
   "cell_type": "code",
   "execution_count": 1,
   "metadata": {},
   "outputs": [],
   "source": [
    "import string"
   ]
  },
  {
   "cell_type": "code",
   "execution_count": 2,
   "metadata": {},
   "outputs": [],
   "source": [
    "import random"
   ]
  },
  {
   "cell_type": "code",
   "execution_count": null,
   "metadata": {},
   "outputs": [],
   "source": [
    "def gen():\n",
    "    s1 = string.ascii_uppercase\n",
    "    #print(s1)\n",
    "    s2 = string.ascii_lowercase\n",
    "    #print(s2)\n",
    "    s3 = string.digits\n",
    "    #print(s3)\n",
    "    s4 = string.punctuation\n",
    "    ##print(s4)\n",
    "    passlen = int(input(\"Enter the Password length \\n\"))\n",
    "    \n",
    "    s = []\n",
    "    \n",
    "    s.extend(list(s1))\n",
    "    s.extend(list(s2))\n",
    "    s.extend(list(s3))\n",
    "    s.extend(list(s4))\n",
    "    \n",
    "    #print(s)\n",
    "    \n",
    "    random.shuffle(s)\n",
    "    \n",
    "    #print(s)\n",
    "    \n",
    "    pas = ('',join(s[0:passlen]))\n",
    "    \n",
    "    #print(pas)\n",
    "    \n",
    "gen()    "
   ]
  }
 ],
 "metadata": {
  "kernelspec": {
   "display_name": "Python 3",
   "language": "python",
   "name": "python3"
  },
  "language_info": {
   "codemirror_mode": {
    "name": "ipython",
    "version": 3
   },
   "file_extension": ".py",
   "mimetype": "text/x-python",
   "name": "python",
   "nbconvert_exporter": "python",
   "pygments_lexer": "ipython3",
   "version": "3.6.5"
  }
 },
 "nbformat": 4,
 "nbformat_minor": 2
}
